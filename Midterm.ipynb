{
 "cells": [
  {
   "cell_type": "markdown",
   "metadata": {},
   "source": [
    "Data Deisgn and Representation \n",
    "\n",
    "Midterm\n",
    "\n",
    "John Huang"
   ]
  },
  {
   "cell_type": "code",
   "execution_count": null,
   "metadata": {},
   "outputs": [],
   "source": [
    "# Modify your previous code to search for buy-it-now listings of <keyword> and limit the number of items to 100 per page. Use this guide to select the right <keyword> assigned to you:\n",
    "# If your last name on Canvas starts with A-F use <keyword>: \"canon eos 5d\"\n",
    "# If your last name on Canvas starts with G-L use <keyword>: \"playstation 4 slim\"\n",
    "# If your last name on Canvas starts with M-R use <keyword>: \"iphone 11 pro\"\n",
    "# If your last name on Canvas starts with S-Z use <keyword>: \"ipad 4\"\n",
    "# Identify all the sponsored items.\n",
    "# For the first 10 pages of 100 items/page, save all the URLs of sponsored items' pages to the file \"sponsored.txt\"  and all the URLs of non-sponsored items' pages to the file \"non-sponsored.txt\" in the same directory as your code. (One URL per line in each file)"
   ]
  },
  {
   "cell_type": "code",
   "execution_count": 14,
   "metadata": {},
   "outputs": [],
   "source": [
    "import requests\n",
    "import time\n",
    "from bs4 import BeautifulSoup\n",
    "import re"
   ]
  },
  {
   "cell_type": "code",
   "execution_count": 15,
   "metadata": {},
   "outputs": [],
   "source": [
    "# part b\n",
    "# This is the url for scraping\n",
    "ebay = \"https://www.ebay.com/sch/i.html?_nkw=playstation+4+slim\""
   ]
  },
  {
   "cell_type": "code",
   "execution_count": 10,
   "metadata": {},
   "outputs": [],
   "source": [
    "# getting the source code\n",
    "source_code = requests.get(ebay, headers = {'user-agent':'Mozilla/5.0'})"
   ]
  },
  {
   "cell_type": "code",
   "execution_count": 11,
   "metadata": {},
   "outputs": [],
   "source": [
    "file_to_Save = open(\"ebay_playstation_4_slim_01.htm\", \"wb\")\n",
    "file_to_Save.write(source_code.content)\n",
    "file_to_Save.close()"
   ]
  },
  {
   "cell_type": "code",
   "execution_count": 12,
   "metadata": {
    "collapsed": true
   },
   "outputs": [
    {
     "name": "stdout",
     "output_type": "stream",
     "text": [
      "https://www.ebay.com/sch/i.html?_nkw=playstation+4+slim&_pgn=02\n",
      "https://www.ebay.com/sch/i.html?_nkw=playstation+4+slim&_pgn=02 saved as file: ebay_playstation_4_slim_02.htm\n",
      "\n",
      "https://www.ebay.com/sch/i.html?_nkw=playstation+4+slim&_pgn=03\n",
      "https://www.ebay.com/sch/i.html?_nkw=playstation+4+slim&_pgn=03 saved as file: ebay_playstation_4_slim_03.htm\n",
      "\n",
      "https://www.ebay.com/sch/i.html?_nkw=playstation+4+slim&_pgn=04\n",
      "https://www.ebay.com/sch/i.html?_nkw=playstation+4+slim&_pgn=04 saved as file: ebay_playstation_4_slim_04.htm\n",
      "\n",
      "https://www.ebay.com/sch/i.html?_nkw=playstation+4+slim&_pgn=05\n",
      "https://www.ebay.com/sch/i.html?_nkw=playstation+4+slim&_pgn=05 saved as file: ebay_playstation_4_slim_05.htm\n",
      "\n",
      "https://www.ebay.com/sch/i.html?_nkw=playstation+4+slim&_pgn=06\n",
      "https://www.ebay.com/sch/i.html?_nkw=playstation+4+slim&_pgn=06 saved as file: ebay_playstation_4_slim_06.htm\n",
      "\n",
      "https://www.ebay.com/sch/i.html?_nkw=playstation+4+slim&_pgn=07\n",
      "https://www.ebay.com/sch/i.html?_nkw=playstation+4+slim&_pgn=07 saved as file: ebay_playstation_4_slim_07.htm\n",
      "\n",
      "https://www.ebay.com/sch/i.html?_nkw=playstation+4+slim&_pgn=08\n",
      "https://www.ebay.com/sch/i.html?_nkw=playstation+4+slim&_pgn=08 saved as file: ebay_playstation_4_slim_08.htm\n",
      "\n",
      "https://www.ebay.com/sch/i.html?_nkw=playstation+4+slim&_pgn=09\n",
      "https://www.ebay.com/sch/i.html?_nkw=playstation+4+slim&_pgn=09 saved as file: ebay_playstation_4_slim_09.htm\n",
      "\n",
      "https://www.ebay.com/sch/i.html?_nkw=playstation+4+slim&_pgn=10\n",
      "https://www.ebay.com/sch/i.html?_nkw=playstation+4+slim&_pgn=10 saved as file: ebay_playstation_4_slim_10.htm\n",
      "\n"
     ]
    }
   ],
   "source": [
    "# loop down all ps4 slim\n",
    "for x in range(2, 11):\n",
    "    url = ebay+\"&_pgn=\"+\"%02d\" % x\n",
    "    print(url)\n",
    "    source = requests.get(url, headers = {'user-agent':'Mozilla/5.0'})\n",
    "    file_name = \"ebay_playstation_4_slim_\"+\"%02d\" % x+\".htm\"\n",
    "    save_file = open(file_name, \"wb\")\n",
    "    save_file.write(source.content)\n",
    "    save_file.close()\n",
    "    time.sleep(10)\n",
    "    print(url+\" saved as file: \"+file_name+\"\\n\")"
   ]
  },
  {
   "cell_type": "code",
   "execution_count": 32,
   "metadata": {},
   "outputs": [],
   "source": [
    "# stored all sponsored urls onto sponsored.txt\n",
    "sp_name = 'sponsored' + \".txt\"\n",
    "save_file = open(sp_name,\"wb\")\n",
    "for i in range (1,11):\n",
    "    file_name = \"ebay_playstation_4_slim_\"+\"%02d\"%i+\".htm\"    \n",
    "    html_file = open(file_name, \"rb\")\n",
    "    soup = BeautifulSoup(html_file, 'html.parser')\n",
    "    for row in soup.findAll('h3', attrs = {'class':'s-item__title s-item__title--has-tags'}):        \n",
    "        href = row.parent['href'] + \"\\n\"\n",
    "        save_file.write(href.encode())\n",
    "save_file.close()"
   ]
  },
  {
   "cell_type": "code",
   "execution_count": 31,
   "metadata": {},
   "outputs": [],
   "source": [
    "# to non-sponsored txt\n",
    "nsp_name = 'non-sponsored' + \".txt\"\n",
    "save_file = open(nsp_name,\"wb\")\n",
    "for i in range (1,11):\n",
    "    file_name = \"ebay_playstation_4_slim_\"+\"%02d\"%i+\".htm\"    \n",
    "    html_file = open(file_name, \"rb\")\n",
    "    soup = BeautifulSoup(html_file, 'html.parser')    \n",
    "    for row in soup.findAll('h3', attrs = {'class':'s-item__title'}):        \n",
    "        href = row.parent['href'] + \"\\n\"\n",
    "        save_file.write(href.encode())       \n",
    "save_file.close()"
   ]
  },
  {
   "cell_type": "code",
   "execution_count": null,
   "metadata": {},
   "outputs": [],
   "source": [
    "# part c"
   ]
  },
  {
   "cell_type": "code",
   "execution_count": null,
   "metadata": {},
   "outputs": [],
   "source": []
  },
  {
   "cell_type": "code",
   "execution_count": null,
   "metadata": {},
   "outputs": [],
   "source": []
  },
  {
   "cell_type": "code",
   "execution_count": null,
   "metadata": {},
   "outputs": [],
   "source": []
  }
 ],
 "metadata": {
  "kernelspec": {
   "display_name": "Python 3",
   "language": "python",
   "name": "python3"
  },
  "language_info": {
   "codemirror_mode": {
    "name": "ipython",
    "version": 3
   },
   "file_extension": ".py",
   "mimetype": "text/x-python",
   "name": "python",
   "nbconvert_exporter": "python",
   "pygments_lexer": "ipython3",
   "version": "3.7.1"
  }
 },
 "nbformat": 4,
 "nbformat_minor": 2
}
